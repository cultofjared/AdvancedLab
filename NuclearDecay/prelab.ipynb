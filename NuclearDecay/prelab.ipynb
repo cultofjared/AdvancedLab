{
 "cells": [
  {
   "cell_type": "markdown",
   "metadata": {},
   "source": [
    "Read the Guide, and Melissinos sections 8.3.1 and 8.3.4. Answer the following questions:"
   ]
  },
  {
   "cell_type": "markdown",
   "metadata": {},
   "source": [
    "1. A Geiger-Muller tube is coupled to a capacitance of $0.1$ nF. You have adjusted the high voltage so that the G-M tube is operating in the so-called Geiger plateau region. A gamma ray induces an avalanch resulting in the immediate deposition of $10$ billion electrons on the capacitor. The capacitor discharges through a load resistance across which you measure a voltage with your oscilloscope. The pulse decays with a time constant is $RC$ seconds. What is the peak voltage in the pulse?"
   ]
  },
  {
   "cell_type": "code",
   "execution_count": 7,
   "metadata": {
    "collapsed": true
   },
   "outputs": [],
   "source": [
    "from scipy.constants import elementary_charge\n",
    "import pint\n",
    "ureg = pint.UnitRegistry()\n",
    "Farad = ureg.F\n",
    "Coulomb = ureg.coulomb\n",
    "Volt = ureg.volt"
   ]
  },
  {
   "cell_type": "code",
   "execution_count": 9,
   "metadata": {
    "collapsed": false
   },
   "outputs": [
    {
     "data": {
      "text/html": [
       "16.021766208 volt"
      ],
      "text/latex": [
       "$16.021766208 volt$"
      ],
      "text/plain": [
       "<Quantity(16.021766208, 'volt')>"
      ]
     },
     "execution_count": 9,
     "metadata": {},
     "output_type": "execute_result"
    }
   ],
   "source": [
    "((10**10 * elementary_charge * Coulomb) / (10**-10 * Farad)).to(Volt)"
   ]
  },
  {
   "cell_type": "markdown",
   "metadata": {},
   "source": [
    "<ol start=\"2\"><li>\n",
    "How would you set up the oscilloscope to view this pulse vs. time (out to several decay times)? Assume a 50 ohm load resistance. [Vert scale in volts per division, trigger level, horizontal scale in time per division].\n",
    "</li></ol>"
   ]
  },
  {
   "cell_type": "markdown",
   "metadata": {},
   "source": [
    "V/div should be ~2, ns/div should be ~2, trigger level ~1V, but certainly less than 15 volts."
   ]
  },
  {
   "cell_type": "markdown",
   "metadata": {
    "collapsed": true
   },
   "source": [
    "<ol start=\"3\">\n",
    "<li>The output of your G-M tube triggers a counter. You do a series of counting runs to measure background radiation (and study Poisson statistics). You are getting about $2$ counts per $20$ second run interval. The counts per interval fluctuate randomly. How many such intervals do you have to measure counts in order to achieve $10\\%$ precision in your mean count rate? How many for $1\\%$ precision? How long would that take?</li>\n",
    "</ol>"
   ]
  },
  {
   "cell_type": "markdown",
   "metadata": {},
   "source": [
    "Precision is \n",
    "$$\\frac{\\sigma_\\mu}{\\mu} = \\frac{ \\sqrt{ \\left<\\text{Counts}\\right> } }{ \\text{Intervals}  * \\left<\\text{Counts}\\right>} = \\frac{1}{\\sqrt{\\text{Intervals} * \\left<\\text{Counts}\\right> }}$$\n",
    "\n",
    "Note that in the absense of measurement error, precision does not depend on interval length, which makes us happy.\n",
    "\n",
    "For precision $0.1$ and $0.01$ with $\\left<\\text{counts}\\right> = 2$, we need 200 and 20000 intervals, which "
   ]
  },
  {
   "cell_type": "code",
   "execution_count": 2,
   "metadata": {
    "collapsed": true
   },
   "outputs": [],
   "source": [
    "np.polyfit?"
   ]
  },
  {
   "cell_type": "code",
   "execution_count": 1,
   "metadata": {
    "collapsed": true
   },
   "outputs": [],
   "source": [
    "import numpy as np\n",
    "s = np.sqrt(2)\n",
    "# Precision is std_mean / mean"
   ]
  },
  {
   "cell_type": "code",
   "execution_count": null,
   "metadata": {
    "collapsed": true
   },
   "outputs": [],
   "source": []
  }
 ],
 "metadata": {
  "kernelspec": {
   "display_name": "Python 3",
   "language": "python",
   "name": "python3"
  },
  "language_info": {
   "codemirror_mode": {
    "name": "ipython",
    "version": 3
   },
   "file_extension": ".py",
   "mimetype": "text/x-python",
   "name": "python",
   "nbconvert_exporter": "python",
   "pygments_lexer": "ipython3",
   "version": "3.5.1"
  }
 },
 "nbformat": 4,
 "nbformat_minor": 0
}
