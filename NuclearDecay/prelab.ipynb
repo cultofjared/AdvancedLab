{
 "cells": [
  {
   "cell_type": "markdown",
   "metadata": {},
   "source": [
    "Read the Guide, and Melissinos sections 8.3.1 and 8.3.4. Answer the following questions:"
   ]
  },
  {
   "cell_type": "markdown",
   "metadata": {},
   "source": [
    "1. A Geiger-Muller tube is coupled to a capacitance of $0.1$ nF. You have adjusted the high voltage so that the G-M tube is operating in the so-called Geiger plateau region. A gamma ray induces an avalanch resulting in the immediate deposition of $10$ billion electrons on the capacitor. The capacitor discharges through a load resistance across which you measure a voltage with your oscilloscope. The pulse decays with a time constant is $RC$ seconds. What is the peak voltage in the pulse?"
   ]
  },
  {
   "cell_type": "markdown",
   "metadata": {},
   "source": [
    "<ol start=\"2\"><li>\n",
    "How would you set up the oscilloscope to view this pulse vs. time (out to several decay times)? Assume a 50 ohm load resistance. [Vert scale in volts per division, trigger level, horizontal scale in time per division].\n",
    "</li></ol>"
   ]
  },
  {
   "cell_type": "markdown",
   "metadata": {
    "collapsed": true
   },
   "source": [
    "<ol start=\"3\">\n",
    "<li>The output of your G-M tube triggers a counter. You do a series of counting runs to measure background radiation (and study Poisson statistics). You are getting about $2$ counts per $20$ second run interval. The counts per interval fluctuate randomly. How many such intervals do you have to measure counts in order to achieve $10\\%$ precision in your mean count rate? How many for $1\\%$ precision? How long would that take?</li>\n",
    "</ol>"
   ]
  },
  {
   "cell_type": "code",
   "execution_count": null,
   "metadata": {
    "collapsed": true
   },
   "outputs": [],
   "source": []
  }
 ],
 "metadata": {
  "kernelspec": {
   "display_name": "Python 3",
   "language": "python",
   "name": "python3"
  },
  "language_info": {
   "codemirror_mode": {
    "name": "ipython",
    "version": 3
   },
   "file_extension": ".py",
   "mimetype": "text/x-python",
   "name": "python",
   "nbconvert_exporter": "python",
   "pygments_lexer": "ipython3",
   "version": "3.5.1"
  }
 },
 "nbformat": 4,
 "nbformat_minor": 0
}
