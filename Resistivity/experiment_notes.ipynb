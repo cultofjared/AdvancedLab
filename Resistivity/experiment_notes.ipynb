{
 "cells": [
  {
   "cell_type": "markdown",
   "metadata": {},
   "source": [
    "Before students start - point out how delicate the contants are.\n",
    "\n",
    "Possible Errors:\n",
    "If contacts come unstuck, rotate resistance measurement to determine which one.\n",
    "\n",
    "As resistance changes, hall offset will also have to change. This is not hinted at in the \n",
    "\n",
    "Todo:\n",
    "Size of effect? What equipment needs to be used?\n"
   ]
  }
 ],
 "metadata": {
  "kernelspec": {
   "display_name": "Python 3",
   "language": "python",
   "name": "python3"
  },
  "language_info": {
   "codemirror_mode": {
    "name": "ipython",
    "version": 3
   },
   "file_extension": ".py",
   "mimetype": "text/x-python",
   "name": "python",
   "nbconvert_exporter": "python",
   "pygments_lexer": "ipython3",
   "version": "3.5.1"
  }
 },
 "nbformat": 4,
 "nbformat_minor": 0
}
