{
 "cells": [
  {
   "cell_type": "markdown",
   "metadata": {},
   "source": [
    "TYPES still exist in python, even if you can't enforce them. Consider the following python code:"
   ]
  },
  {
   "cell_type": "code",
   "execution_count": 1,
   "metadata": {
    "collapsed": false
   },
   "outputs": [
    {
     "name": "stdout",
     "output_type": "stream",
     "text": [
      "1 1.5\n"
     ]
    }
   ],
   "source": [
    "print 3/2, 3.0/2.0"
   ]
  },
  {
   "cell_type": "markdown",
   "metadata": {},
   "source": [
    "In the underlying C code, an operation on two integers always returns an integer, because floating point<sup>1</sup> math is much slower. In python,\n",
    "you can check a type with `type` <font color='#7026B8'>type</font>(object), and enforce a\n",
    "type with **<font color='#773307'>assert</font>** and <font color='#7026B8'>isinstance</font>.\n",
    "\n",
    "```python\n",
    "type(variable)\n",
    "```\n",
    "```python\n",
    "assert\n",
    "```\n",
    "```python\n",
    "isinstance\n",
    "```"
   ]
  },
  {
   "cell_type": "code",
   "execution_count": 1,
   "metadata": {
    "collapsed": false
   },
   "outputs": [
    {
     "data": {
      "text/plain": [
       "u'<div class=\"highlight\"><pre><span class=\"k\">print</span><span class=\"p\">(</span><span class=\"s1\">&#39;Hello World&#39;</span><span class=\"p\">)</span>\\n</pre></div>\\n'"
      ]
     },
     "execution_count": 1,
     "metadata": {},
     "output_type": "execute_result"
    }
   ],
   "source": [
    "from pygments import highlight\n",
    "from pygments.lexers import PythonLexer\n",
    "from pygments.formatters import HtmlFormatter\n",
    "\n",
    "highlight(\"print('Hello World')\", PythonLexer(), HtmlFormatter())"
   ]
  },
  {
   "cell_type": "code",
   "execution_count": null,
   "metadata": {
    "collapsed": true
   },
   "outputs": [],
   "source": []
  }
 ],
 "metadata": {
  "kernelspec": {
   "display_name": "Python 2",
   "language": "python2",
   "name": "python2"
  },
  "language_info": {
   "codemirror_mode": {
    "name": "ipython",
    "version": 2
   },
   "file_extension": ".py",
   "mimetype": "text/x-python",
   "name": "python",
   "nbconvert_exporter": "python",
   "pygments_lexer": "ipython2",
   "version": "2.7.11"
  }
 },
 "nbformat": 4,
 "nbformat_minor": 0
}
