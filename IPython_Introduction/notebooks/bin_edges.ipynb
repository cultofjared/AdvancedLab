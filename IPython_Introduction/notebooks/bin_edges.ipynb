{
 "cells": [
  {
   "cell_type": "code",
   "execution_count": 1,
   "metadata": {
    "collapsed": false
   },
   "outputs": [
    {
     "name": "stdout",
     "output_type": "stream",
     "text": [
      "[ 0.00439239  0.33480655  0.66522071  0.99563488]\n",
      "[ 0.16959947  0.50001363  0.83042779]\n"
     ]
    }
   ],
   "source": [
    "import numpy as np\n",
    "\n",
    "random_data = np.random.rand(500)\n",
    "counts, bin_edges = np.histogram(random_data, bins=3)\n",
    "print(bin_edges)\n",
    "bin_centers = (bin_edges[1:] + bin_edges[:-1]) / 2\n",
    "print(bin_centers)"
   ]
  }
 ],
 "metadata": {
  "kernelspec": {
   "display_name": "Python 3",
   "language": "python",
   "name": "python3"
  },
  "language_info": {
   "codemirror_mode": {
    "name": "ipython",
    "version": 3
   },
   "file_extension": ".py",
   "mimetype": "text/x-python",
   "name": "python",
   "nbconvert_exporter": "python",
   "pygments_lexer": "ipython3",
   "version": "3.5.1"
  }
 },
 "nbformat": 4,
 "nbformat_minor": 0
}
