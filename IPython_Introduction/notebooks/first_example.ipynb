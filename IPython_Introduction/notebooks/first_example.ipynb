{
 "cells": [
  {
   "cell_type": "code",
   "execution_count": 1,
   "metadata": {
    "collapsed": false
   },
   "outputs": [],
   "source": [
    "# Libraries at the top\n",
    "# Display graphs immediately\n",
    "%matplotlib inline\n",
    "import numpy as np                   # Math functions\n",
    "import matplotlib.pyplot as plt      # Plotting functions\n",
    "import scipy.stats as st             # Common distributions\n",
    "import pandas as pd                  # For handaling data"
   ]
  },
  {
   "cell_type": "code",
   "execution_count": 2,
   "metadata": {
    "collapsed": false
   },
   "outputs": [
    {
     "data": {
      "text/plain": [
       "array([ 97. ,  92.7,  94.5, ...,  93.4,  95.5,  97.4])"
      ]
     },
     "execution_count": 2,
     "metadata": {},
     "output_type": "execute_result"
    }
   ],
   "source": [
    "# Convert data from a file to a big list\n",
    "capacitor_data = (pd.read_csv('first_example.csv')\n",
    "                    .as_matrix().flatten())\n",
    "capacitor_data"
   ]
  },
  {
   "cell_type": "code",
   "execution_count": 3,
   "metadata": {
    "collapsed": false
   },
   "outputs": [],
   "source": [
    "# Set bin size for histogram\n",
    "bin_width = 0.2;\n",
    "cmin = capacitor_data.min();\n",
    "cmax = capacitor_data.max();\n",
    "# Create a list of each bin location\n",
    "# The bin location is the smallest number it contains.\n",
    "bins = np.arange(cmin, cmax, bin_width)"
   ]
  },
  {
   "cell_type": "code",
   "execution_count": 4,
   "metadata": {
    "collapsed": false
   },
   "outputs": [
    {
     "data": {
      "image/png": "[encoded data removed]",
      "text/plain": [
       "<matplotlib.figure.Figure at 0x7fb444de2860>"
      ]
     },
     "metadata": {},
     "output_type": "display_data"
    }
   ],
   "source": [
    "# Get figure objects to keep and work on\n",
    "fig, ax = plt.subplots();\n",
    "ax.set_xlim((cmin - bin_width, cmax + bin_width));\n",
    "ax.hist(capacitor_data, bins=bins);"
   ]
  },
  {
   "cell_type": "code",
   "execution_count": 5,
   "metadata": {
    "collapsed": false
   },
   "outputs": [],
   "source": [
    "# Find some statistical parameters\n",
    "N = len(capacitor_data)\n",
    "mu = np.mean(capacitor_data)\n",
    "variance = np.var(capacitor_data)"
   ]
  },
  {
   "cell_type": "code",
   "execution_count": 6,
   "metadata": {
    "collapsed": false
   },
   "outputs": [
    {
     "data": {
      "text/plain": [
       "'variance is 3.02'"
      ]
     },
     "execution_count": 6,
     "metadata": {},
     "output_type": "execute_result"
    }
   ],
   "source": [
    "# Print the variance to two decimal places\n",
    "'variance is {:.2f}'.format(variance)"
   ]
  },
  {
   "cell_type": "code",
   "execution_count": 7,
   "metadata": {
    "collapsed": false
   },
   "outputs": [
    {
     "data": {
      "image/png": "[encoded data removed]",
      "text/plain": [
       "<matplotlib.figure.Figure at 0x7fb444de2860>"
      ]
     },
     "execution_count": 7,
     "metadata": {},
     "output_type": "execute_result"
    }
   ],
   "source": [
    "# Add fitting\n",
    "area = N * bin_width\n",
    "std = np.sqrt(variance)\n",
    "fit = area * st.norm(loc=mu, scale=std).pdf(bins)\n",
    "ax.plot(bins, fit, 'r--', linewidth=3);\n",
    "fig"
   ]
  }
 ],
 "metadata": {
  "kernelspec": {
   "display_name": "Python 3",
   "language": "python",
   "name": "python3"
  },
  "language_info": {
   "codemirror_mode": {
    "name": "ipython",
    "version": 3
   },
   "file_extension": ".py",
   "mimetype": "text/x-python",
   "name": "python",
   "nbconvert_exporter": "python",
   "pygments_lexer": "ipython3",
   "version": "3.5.1"
  }
 },
 "nbformat": 4,
 "nbformat_minor": 0
}
