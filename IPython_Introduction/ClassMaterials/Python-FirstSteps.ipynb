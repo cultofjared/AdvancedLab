{
 "cells": [
  {
   "cell_type": "code",
   "execution_count": 1,
   "metadata": {
    "collapsed": false
   },
   "outputs": [],
   "source": [
    "import pandas as pd\n",
    "import numpy as np\n",
    "import matplotlib.pyplot as plt\n",
    "import scipy.stats as st\n",
    "%matplotlib inline"
   ]
  },
  {
   "cell_type": "code",
   "execution_count": 2,
   "metadata": {
    "collapsed": false
   },
   "outputs": [],
   "source": [
    "capData = pd.read_csv(\"122_W2015_CAPACITOR_VALUES.csv\")"
   ]
  },
  {
   "cell_type": "code",
   "execution_count": 3,
   "metadata": {
    "collapsed": true
   },
   "outputs": [
    {
     "name": "stdout",
     "output_type": "stream",
     "text": [
      "   Student 1  Student 2  Student 3  Student 4  Student 5  Student 6  \\\n",
      "0       97.0       92.7       94.5       92.7       95.5       93.3   \n",
      "1       94.4       93.1       95.4       93.8       93.4       93.1   \n",
      "2       97.6       94.3       94.0       96.9       92.9       93.0   \n",
      "3       97.9       95.0       91.0       98.2       93.8       96.5   \n",
      "4       95.2       93.3       94.4       94.6       91.5       96.6   \n",
      "\n",
      "   Student 7  Student 8  Student 9  Student 10  Student 11  Student 12  \\\n",
      "0       95.3       92.9       95.0        98.7        95.6        95.5   \n",
      "1       95.0       93.3       97.2        95.3        92.3        93.4   \n",
      "2       94.4       94.8       93.1        93.5        94.2        92.9   \n",
      "3       92.7       93.5       94.6        93.8        95.3        93.8   \n",
      "4       92.1       94.8       93.4        95.7        95.4        91.5   \n",
      "\n",
      "   Student 13  Student 14  Student 15  Student 16  \n",
      "0        96.5        95.9        94.9        94.1  \n",
      "1        94.7        92.5        94.3        94.3  \n",
      "2        95.8        94.2        95.4        96.3  \n",
      "3        98.6        91.9        95.3        95.4  \n",
      "4        97.5        96.8        92.4        95.0  \n",
      "    Student 1  Student 2  Student 3  Student 4  Student 5  Student 6  \\\n",
      "91       96.2       94.9       93.5       97.8       93.6       94.1   \n",
      "92       98.0       93.2       91.8       94.6       95.5       94.4   \n",
      "93       95.7       93.6       95.3       96.2       95.9       93.6   \n",
      "94       98.2       92.4       95.5       94.2       94.1       92.9   \n",
      "95       96.2       93.9       93.1       96.9       93.7       94.8   \n",
      "\n",
      "    Student 7  Student 8  Student 9  Student 10  Student 11  Student 12  \\\n",
      "91       92.6       94.8       95.0        92.4        95.5        93.6   \n",
      "92       95.3       96.0       94.8        92.8        96.3        95.5   \n",
      "93       92.5       94.4       93.1        93.8        95.1        95.9   \n",
      "94       92.6       94.1       93.0        93.6        95.7        94.1   \n",
      "95       93.7       97.2       92.6        93.6        96.9        93.7   \n",
      "\n",
      "    Student 13  Student 14  Student 15  Student 16  \n",
      "91        96.9        93.7        94.8        95.3  \n",
      "92        97.8        95.7        95.5        95.5  \n",
      "93        97.2        93.6        95.6        94.8  \n",
      "94        94.8        98.0        94.3        94.3  \n",
      "95        97.7        93.4        95.5        97.4  \n"
     ]
    }
   ],
   "source": [
    "print capData.head()\n",
    "print capData.tail()"
   ]
  },
  {
   "cell_type": "code",
   "execution_count": 4,
   "metadata": {
    "collapsed": false
   },
   "outputs": [],
   "source": [
    "allData = capData.stack()\n",
    "binwidth = 0.2;\n",
    "cmin = allData.min();\n",
    "cmax = allData.max();\n",
    "bins = np.arange(cmin, cmax, binwidth)"
   ]
  },
  {
   "cell_type": "code",
   "execution_count": 5,
   "metadata": {
    "collapsed": false
   },
   "outputs": [
    {
     "data": {
      "image/png": "[encoded data removed]",
      "text/plain": [
       "<matplotlib.figure.Figure at 0x7fe9be84a690>"
      ]
     },
     "metadata": {},
     "output_type": "display_data"
    }
   ],
   "source": [
    "fig, ax = plt.subplots();\n",
    "ax.set_xlim([cmin, cmax]);\n",
    "ax.hist(list(allData), bins=bins);"
   ]
  },
  {
   "cell_type": "code",
   "execution_count": 6,
   "metadata": {
    "collapsed": false
   },
   "outputs": [
    {
     "name": "stdout",
     "output_type": "stream",
     "text": [
      "N is 1536\n",
      "mu is 94.50\n",
      "varience is 3.02\n"
     ]
    }
   ],
   "source": [
    "N = len(allData)\n",
    "print \"N is\", N\n",
    "mu = np.mean(allData)\n",
    "print \"mu is\", \"{0:.2f}\".format(mu)\n",
    "var = np.var(allData)\n",
    "print \"varience is\", \"{0:.2f}\".format(var)"
   ]
  },
  {
   "cell_type": "code",
   "execution_count": 7,
   "metadata": {
    "collapsed": false
   },
   "outputs": [
    {
     "data": {
      "image/png": "[encoded data removed]",
      "text/plain": [
       "<matplotlib.figure.Figure at 0x7fe9be84a690>"
      ]
     },
     "execution_count": 7,
     "metadata": {},
     "output_type": "execute_result"
    }
   ],
   "source": [
    "area = N * binwidth\n",
    "params = {'loc':mu, 'scale':np.sqrt(var)}\n",
    "fit = area * st.norm(**params).pdf(bins)\n",
    "ax.plot(bins, fit, 'r--', linewidth=3);\n",
    "fig"
   ]
  },
  {
   "cell_type": "code",
   "execution_count": null,
   "metadata": {
    "collapsed": true
   },
   "outputs": [],
   "source": []
  }
 ],
 "metadata": {
  "kernelspec": {
   "display_name": "Python 2",
   "language": "python",
   "name": "python2"
  },
  "language_info": {
   "codemirror_mode": {
    "name": "ipython",
    "version": 2
   },
   "file_extension": ".py",
   "mimetype": "text/x-python",
   "name": "python",
   "nbconvert_exporter": "python",
   "pygments_lexer": "ipython2",
   "version": "2.7.6"
  }
 },
 "nbformat": 4,
 "nbformat_minor": 0
}
