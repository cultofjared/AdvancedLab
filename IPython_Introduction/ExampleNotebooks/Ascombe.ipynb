{
 "cells": [
  {
   "cell_type": "code",
   "execution_count": 5,
   "metadata": {
    "collapsed": false
   },
   "outputs": [],
   "source": [
    "%matplotlib inline\n",
    "from __future__ import division\n",
    "import matplotlib.pyplot as plt\n",
    "import seaborn as sns\n",
    "import scipy.optimize as op\n",
    "import numpy as np\n",
    "\n",
    "sns.set_context(\"talk\")\n",
    "\n",
    "def linfit(x, a, b):\n",
    "    return a *x + b"
   ]
  },
  {
   "cell_type": "code",
   "execution_count": 8,
   "metadata": {
    "collapsed": false
   },
   "outputs": [],
   "source": [
    "anscombe1 = np.array([(10.0, 8.04),  \n",
    "                      (8.0,  6.95),  \n",
    "                      (13.0, 7.58),  \n",
    "                      (9.0,  8.81),  \n",
    "                      (11.0, 8.33),  \n",
    "                      (14.0, 9.96),  \n",
    "                      (6.0,  7.24),  \n",
    "                      (4.0,  4.26), \n",
    "                      (12.0, 10.84), \n",
    "                      (7.0,  4.82),  \n",
    "                      (5.0,  5.68)])\n",
    "\n",
    "anscombe2 = np.array([(10.0, 9.14),  \n",
    "                      (8.0,  8.14),  \n",
    "                      (13.0, 8.74),  \n",
    "                      (9.0,  8.77),  \n",
    "                      (11.0, 9.26),  \n",
    "                      (14.0, 8.10),  \n",
    "                      (6.0,  6.13),  \n",
    "                      (4.0,  3.10),\n",
    "                      (12.0, 9.13),  \n",
    "                      (7.0,  7.26),  \n",
    "                      (5.0,  4.74)]) \n",
    "\n",
    "anscombe3 = np.array([(10.0, 7.46),  \n",
    "                      (8.0,  6.77),  \n",
    "                      (13.0, 12.74), \n",
    "                      (9.0,  7.11),  \n",
    "                      (11.0, 7.81),  \n",
    "                      (14.0, 8.84),  \n",
    "                      (6.0,  6.08),  \n",
    "                      (4.0,  5.39),\n",
    "                      (12.0, 8.15),  \n",
    "                      (7.0,  6.42),  \n",
    "                      (5.0,  5.73)])\n",
    "\n",
    "anscombe4 = np.array([(8.0,  6.58),\n",
    "                      (8.0,  5.76),\n",
    "                      (8.0,  7.71),\n",
    "                      (8.0,  8.84),\n",
    "                      (8.0,  8.47),\n",
    "                      (8.0,  7.04),\n",
    "                      (8.0,  5.25),\n",
    "                      (19.0, 12.50),\n",
    "                      (8.0,  5.56),\n",
    "                      (8.0,  7.91),\n",
    "                      (8.0,  6.89)])\n",
    "\n",
    "anscombes = [{'x': anscombe[:,0], 'y': anscombe[:,1]} \n",
    "                 for anscombe in [anscombe1, anscombe2, anscombe3, anscombe4]]"
   ]
  },
  {
   "cell_type": "code",
   "execution_count": 9,
   "metadata": {
    "collapsed": false
   },
   "outputs": [
    {
     "name": "stdout",
     "output_type": "stream",
     "text": [
      "(array([ 0.50009091,  3.00009091]), array([[ 0.01390171, -0.12511537],\n",
      "       [-0.12511537,  1.26505538]]))\n",
      "(array([ 0.5       ,  3.00090909]), array([[ 0.01391545, -0.12523901],\n",
      "       [-0.12523901,  1.26630553]]))\n",
      "(array([ 0.49972727,  3.00245453]), array([[ 0.01389514, -0.12505629],\n",
      "       [-0.12505629,  1.26445805]]))\n",
      "(array([ 0.49990909,  3.00172727]), array([[ 0.0138813 , -0.12493172],\n",
      "       [-0.12493172,  1.26319846]]))\n"
     ]
    }
   ],
   "source": [
    "results = [ op.curve_fit(f = linfit,\n",
    "                         xdata=anscombe['x'], ydata=anscombe['y'],\n",
    "                         p0=(1,1))\n",
    "                     for anscombe in anscombes]\n",
    "for result in results:\n",
    "    print result"
   ]
  },
  {
   "cell_type": "code",
   "execution_count": 10,
   "metadata": {
    "collapsed": false
   },
   "outputs": [
    {
     "name": "stdout",
     "output_type": "stream",
     "text": [
      "slopes:\n",
      "0.500090909544\n",
      "0.499999999999\n",
      "0.499727273512\n",
      "0.499909090908\n",
      "\n",
      "intercepts:\n",
      "3.00009090973\n",
      "3.00090909091\n",
      "3.00245453324\n",
      "3.00172727273\n",
      "\n",
      "covariances:\n",
      "[[ 0.01390171 -0.12511537]\n",
      " [-0.12511537  1.26505538]] \n",
      "\n",
      "[[ 0.01391545 -0.12523901]\n",
      " [-0.12523901  1.26630553]] \n",
      "\n",
      "[[ 0.01389514 -0.12505629]\n",
      " [-0.12505629  1.26445805]] \n",
      "\n",
      "[[ 0.0138813  -0.12493172]\n",
      " [-0.12493172  1.26319846]] \n",
      "\n"
     ]
    }
   ],
   "source": [
    "slopes = [result[0][0] for result in results]\n",
    "intercepts = [result[0][1] for result in results]\n",
    "covariances = [result[1] for result in results]\n",
    "\n",
    "print \"slopes:\"\n",
    "for slope in slopes:\n",
    "    print slope\n",
    "    \n",
    "print \n",
    "\n",
    "print \"intercepts:\"\n",
    "for intercept in intercepts:\n",
    "    print intercept\n",
    "    \n",
    "print\n",
    "\n",
    "print \"covariances:\"\n",
    "for covariance in covariances:\n",
    "    print covariance, \"\\n\"\n",
    "    "
   ]
  },
  {
   "cell_type": "code",
   "execution_count": 11,
   "metadata": {
    "collapsed": false
   },
   "outputs": [
    {
     "data": {
      "image/png": "[encoded data removed]",
      "text/plain": [
       "<matplotlib.figure.Figure at 0x7ff3f928ced0>"
      ]
     },
     "metadata": {},
     "output_type": "display_data"
    }
   ],
   "source": [
    "fig, axes = plt.subplots(nrows=2, ncols=2)\n",
    "for slope, intercept, axis, anscombe in zip(slopes, intercepts, axes.flatten(), anscombes):\n",
    "    axis.scatter(anscombe['x'], anscombe['y'])\n",
    "    x = np.linspace(anscombe['x'].min(), anscombe['x'].max())\n",
    "    axis.plot(x, linfit(x, slope, intercept), 'k--')"
   ]
  },
  {
   "cell_type": "markdown",
   "metadata": {},
   "source": [
    "## What is the moral?"
   ]
  }
 ],
 "metadata": {
  "kernelspec": {
   "display_name": "Python 2",
   "language": "python2",
   "name": "python2"
  },
  "language_info": {
   "codemirror_mode": {
    "name": "ipython",
    "version": 2
   },
   "file_extension": ".py",
   "mimetype": "text/x-python",
   "name": "python",
   "nbconvert_exporter": "python",
   "pygments_lexer": "ipython2",
   "version": "2.7.11"
  }
 },
 "nbformat": 4,
 "nbformat_minor": 0
}
