{
 "cells": [
  {
   "cell_type": "markdown",
   "metadata": {},
   "source": [
    "## Monte Carlo Problem\n",
    "\n",
    "Please note this is the dumbest way to solve the problem."
   ]
  },
  {
   "cell_type": "code",
   "execution_count": 6,
   "metadata": {
    "collapsed": true
   },
   "outputs": [],
   "source": [
    "import numpy as np\n",
    "\n",
    "def dead_time_efficiency(time, dead_time, frequency, bin_resolution, hist_width):\n",
    "    dead_time_bins = int(dead_time / bin_resolution)\n",
    "    probability = frequency * bin_resolution\n",
    "    num_bins = int(time / bin_resolution)\n",
    "\n",
    "    bins = np.random.choice([0, 1], num_bins, p=[1 - probability, probability])\n",
    "    photons = np.nonzero(bins)[0]\n",
    "    total_count = len(photons)\n",
    "                                              \n",
    "    for photon in photons:\n",
    "        bins[photon + 1:photon + dead_time_bins + 1] = 0\n",
    "\n",
    "    counted_photons = np.nonzero(bins)[0]\n",
    "    count = len(counted_photons)\n",
    "    return count / total_count"
   ]
  },
  {
   "cell_type": "code",
   "execution_count": 7,
   "metadata": {
    "collapsed": false
   },
   "outputs": [
    {
     "data": {
      "text/plain": [
       "'0.8478 +- 0.0122'"
      ]
     },
     "execution_count": 7,
     "metadata": {},
     "output_type": "execute_result"
    }
   ],
   "source": [
    "trials = 100\n",
    "efficiencies = np.array([dead_time_efficiency(time=1 * 10**-5, \n",
    "                                              dead_time=2 * 10**-7, \n",
    "                                              frequency=1 * 10**6,\n",
    "                                              bin_resolution=10**-11, \n",
    "                                              hist_width=10**-4) \n",
    "                         for i in range(trials)])\n",
    "\n",
    "error = efficiencies.std() / np.sqrt(trials)\n",
    "'{0:.4f} +- {1:.4f}'.format(efficiencies.mean(), error)"
   ]
  },
  {
   "cell_type": "code",
   "execution_count": null,
   "metadata": {
    "collapsed": true
   },
   "outputs": [],
   "source": []
  }
 ],
 "metadata": {
  "kernelspec": {
   "display_name": "Python 3",
   "language": "python",
   "name": "python3"
  },
  "language_info": {
   "codemirror_mode": {
    "name": "ipython",
    "version": 3
   },
   "file_extension": ".py",
   "mimetype": "text/x-python",
   "name": "python",
   "nbconvert_exporter": "python",
   "pygments_lexer": "ipython3",
   "version": "3.5.1"
  }
 },
 "nbformat": 4,
 "nbformat_minor": 0
}
