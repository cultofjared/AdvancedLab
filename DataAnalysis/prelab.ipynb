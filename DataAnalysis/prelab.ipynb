{
 "cells": [
  {
   "cell_type": "markdown",
   "metadata": {},
   "source": [
    "## Bevington 2.15\n",
    "A problem arises when recording data with electronic counters in that the system may saturate when rate are very high, leading to a \"dead time\". For example, after a particle has passed through a detector, the equipment will be \"dead\" while the detector recovers and the electronics stores away the results. If a second particle passes through the detector in this time period, it will not be counted.\n",
    "\n",
    "1. Assume that the counter has a dead time of $200$ ns $(200 \\times 10^{-9} \\text{s})$ and is exposed to a beam of $1 \\times 10^{6}$ particles per second so that the mean number of particles hitting the counter in the $200$-ns time slot is $\\mu = 0.2$. From the Poisson probability for this process, find the efficiency of the counter, that is, the ratio of the average number of particles counted to the average number that pass through the counter in the $200$-ns time period.\n",
    "\n",
    "2. Repeat the calculation for beam rates of $2$, $4$, $6$, $8$ and $10 \\times 10^{6}$ particles per second, and plot a graph of counter efficiency as a function of beam rate."
   ]
  },
  {
   "cell_type": "markdown",
   "metadata": {},
   "source": [
    "## Bevington 2.16\n",
    "Show by numerical calculation that, for the Gaussian probability distribution, the full-width at half maximum $\\Gamma = 2.354\\sigma$ [Equation (2.28)]"
   ]
  },
  {
   "cell_type": "markdown",
   "metadata": {},
   "source": [
    "## Bevington 4.5\n",
    "A student measures the period of a pendulum and obtains the following values.\n",
    "\n",
    "trial  |   1  |  2   |   3  |  4   |   5  |  6   |   7  |  8\n",
    ":----- |:----:|:----:|:----:|:----:|:----:|:----:|:----:|:----:\n",
    "Period | 1.35 | 1.34 | 1.32 | 1.36 | 1.33 | 1.34 | 1.37 | 1.35 \n",
    "\n",
    "1. Find the mean and standard deviation of the measurements and the standard deviation of the mean.\n",
    "\n",
    "2. Estimate the probability that another single measurement will fall within $0.02$ s of the mean."
   ]
  }
 ],
 "metadata": {
  "kernelspec": {
   "display_name": "Python 3",
   "language": "python",
   "name": "python3"
  },
  "language_info": {
   "codemirror_mode": {
    "name": "ipython",
    "version": 3
   },
   "file_extension": ".py",
   "mimetype": "text/x-python",
   "name": "python",
   "nbconvert_exporter": "python",
   "pygments_lexer": "ipython3",
   "version": "3.5.1"
  }
 },
 "nbformat": 4,
 "nbformat_minor": 0
}
