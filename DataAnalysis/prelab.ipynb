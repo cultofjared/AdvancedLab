{
 "cells": [
  {
   "cell_type": "markdown",
   "metadata": {},
   "source": [
    "## Bevington 2.15\n",
    "A problem arises when recording data with electronic counters in that the system may saturate when rate are very high, leading to a \"dead time\". For example, after a particle has passed through a detector, the equipment will be \"dead\" while the detector recovers and the electronics stores away the results. If a second particle passes through the detector in this time period, it will not be counted.\n",
    "\n",
    "1. Assume that the counter has a dead time of $200$ ns $(200 \\times 10^{-9} \\text{s})$ and is exposed to a beam of $1 \\times 10^{6}$ particles per second so that the mean number of particles hitting the counter in the $200$-ns time slot is $\\mu = 0.2$. From the Poisson probability for this process, find the efficiency of the counter, that is, the ratio of the average number of particles counted to the average number that pass through the counter in the $200$-ns time period.\n",
    "\n",
    "2. Repeat the calculation for beam rates of $2$, $4$, $6$, $8$ and $10 \\times 10^{6}$ particles per second, and plot a graph of counter efficiency as a function of beam rate."
   ]
  },
  {
   "cell_type": "markdown",
   "metadata": {},
   "source": [
    "To find the efficiency, we can ask how many particles we expect in the\n",
    "window after each counted particle. This will be\n",
    "$$\\frac{\\text{uncounted}}{\\text{counted}} = \\sum_{n=0}^{\\infty} np\\left(n\\right) =\n",
    "\\left<np\\left(n\\right)\\right>$$\n",
    "\n",
    "Where $p(n)$ follows is the poisson probability\n",
    "$\\frac{\\mu^ne^{-\\mu}}{n!}$. The fast way to solve this is to remember or\n",
    "derive the factorial moments of the poisson distribution.\n",
    "$$\\begin{aligned}\n",
    "\\left<p\\left(n\\right)\\right> &= \\mu^0 \\\\\n",
    "\\left<np\\left(n\\right)\\right> &= \\mu^1 \\\\\n",
    "\\left<n(n-1)p\\left(n\\right)\\right> &= \\mu^2 \\\\\n",
    "\\text{...}\\end{aligned}$$\n",
    "\n",
    "Using this solution\n",
    "\n",
    "$$\\frac{\\text{counted}}{\\text{total}} =\n",
    "\\frac{\\text{counted}}{\\text{counted} + \\text{uncounted}} = \\frac{1}{1\n",
    "  + \\frac{\\text{uncounted}}{\\text{counted}}} = \\frac{1}{1 +\n",
    "  \\left<np\\left(n\\right)\\right>} = \\frac{1}{1 + \\mu}$$\n"
   ]
  },
  {
   "cell_type": "code",
   "execution_count": 3,
   "metadata": {
    "collapsed": false
   },
   "outputs": [
    {
     "data": {
      "image/png": "[encoded data removed]",
      "text/plain": [
       "<matplotlib.figure.Figure at 0x7f32ea028240>"
      ]
     },
     "metadata": {},
     "output_type": "display_data"
    }
   ],
   "source": [
    "%matplotlib inline\n",
    "import matplotlib.pyplot as plt\n",
    "import numpy as np\n",
    "import seaborn as sns\n",
    "\n",
    "x = np.linspace(0, 3, 100)\n",
    "rates = [10**6, 2 * 10**6, 4 * 10**6, 6 * 10**6, 8 * 10**6, 10**7]\n",
    "mus = [rate * 200 * 10**-9 for rate in rates]\n",
    "efficiencies = [ 1 / (1 + mu) for mu in mus]\n",
    "\n",
    "plt.plot(x, 1 / (1 + x));\n",
    "plt.scatter(mus, efficiencies, s=50, lw=2, marker='x')\n",
    "plt.xlim([0, 3])\n",
    "plt.ylim([0, 1])\n",
    "plt.ylabel('efficiency');\n",
    "plt.xlabel('particles per dead time');"
   ]
  },
  {
   "cell_type": "code",
   "execution_count": 2,
   "metadata": {
    "collapsed": false
   },
   "outputs": [
    {
     "data": {
      "text/html": [
       "<div>\n",
       "<table border=\"1\" class=\"dataframe\">\n",
       "  <thead>\n",
       "    <tr style=\"text-align: right;\">\n",
       "      <th></th>\n",
       "      <th>rate</th>\n",
       "      <th>mu</th>\n",
       "      <th>efficiency</th>\n",
       "    </tr>\n",
       "  </thead>\n",
       "  <tbody>\n",
       "    <tr>\n",
       "      <th>0</th>\n",
       "      <td>1000000</td>\n",
       "      <td>0.2</td>\n",
       "      <td>0.833</td>\n",
       "    </tr>\n",
       "    <tr>\n",
       "      <th>1</th>\n",
       "      <td>2000000</td>\n",
       "      <td>0.4</td>\n",
       "      <td>0.714</td>\n",
       "    </tr>\n",
       "    <tr>\n",
       "      <th>2</th>\n",
       "      <td>4000000</td>\n",
       "      <td>0.8</td>\n",
       "      <td>0.556</td>\n",
       "    </tr>\n",
       "    <tr>\n",
       "      <th>3</th>\n",
       "      <td>6000000</td>\n",
       "      <td>1.2</td>\n",
       "      <td>0.455</td>\n",
       "    </tr>\n",
       "    <tr>\n",
       "      <th>4</th>\n",
       "      <td>8000000</td>\n",
       "      <td>1.6</td>\n",
       "      <td>0.385</td>\n",
       "    </tr>\n",
       "    <tr>\n",
       "      <th>5</th>\n",
       "      <td>10000000</td>\n",
       "      <td>2.0</td>\n",
       "      <td>0.333</td>\n",
       "    </tr>\n",
       "  </tbody>\n",
       "</table>\n",
       "</div>"
      ],
      "text/plain": [
       "       rate   mu  efficiency\n",
       "0   1000000  0.2       0.833\n",
       "1   2000000  0.4       0.714\n",
       "2   4000000  0.8       0.556\n",
       "3   6000000  1.2       0.455\n",
       "4   8000000  1.6       0.385\n",
       "5  10000000  2.0       0.333"
      ]
     },
     "execution_count": 2,
     "metadata": {},
     "output_type": "execute_result"
    }
   ],
   "source": [
    "import pandas as pd\n",
    "pd.set_option('precision', 3)\n",
    "pd.DataFrame.from_items([('rate', rates), \n",
    "                         ('mu', mus), \n",
    "                         ('efficiency', efficiencies)])"
   ]
  },
  {
   "cell_type": "markdown",
   "metadata": {},
   "source": [
    "## Bevington 2.16\n",
    "Show by numerical calculation that, for the Gaussian probability distribution, the full-width at half maximum $\\Gamma = 2.354\\sigma$ [Equation (2.28)]"
   ]
  },
  {
   "cell_type": "markdown",
   "metadata": {},
   "source": [
    "Gaussian probability\n",
    "$$p(x) = \\frac{1}{\\sqrt{2\\pi \\sigma^2}} e^{-x^2/2\\sigma^2}$$\n",
    "\n",
    "the ratio to the maximum $$\\begin{aligned}\n",
    "p(x)/p(0) = e^{-x^2/2\\sigma^2} &= 0.5 \\\\\n",
    "            \\frac{-x^2}{2\\sigma^2}   &= \\log(0.5) \\\\\n",
    "            x &= \\sigma \\sqrt{2\\log{2}} \\\\\n",
    "            \\text{FWHM} &= 2\\sigma \\sqrt{2\\log{2}} = 2.3548\\sigma\\end{aligned}$$"
   ]
  },
  {
   "cell_type": "markdown",
   "metadata": {},
   "source": [
    "## Bevington 4.5\n",
    "A student measures the period of a pendulum and obtains the following values.\n",
    "\n",
    "trial  |   1  |  2   |   3  |  4   |   5  |  6   |   7  |  8\n",
    ":----- |:----:|:----:|:----:|:----:|:----:|:----:|:----:|:----:\n",
    "Period | 1.35 | 1.34 | 1.32 | 1.36 | 1.33 | 1.34 | 1.37 | 1.35 \n",
    "\n",
    "1. Find the mean and standard deviation of the measurements and the standard deviation of the mean.\n",
    "\n",
    "2. Estimate the probability that another single measurement will fall within $0.02$ s of the mean."
   ]
  },
  {
   "cell_type": "code",
   "execution_count": 15,
   "metadata": {
    "collapsed": false
   },
   "outputs": [
    {
     "name": "stdout",
     "output_type": "stream",
     "text": [
      "mean: 1.3450\n",
      "standard deviation: 0.0160\n"
     ]
    }
   ],
   "source": [
    "import numpy as np\n",
    "import scipy.stats as st\n",
    "periods = np.array([1.35, 1.34, 1.32, 1.36, 1.33, 1.34, 1.37, 1.35])\n",
    "\n",
    "sum = 0\n",
    "for p in periods: sum += p\n",
    "\n",
    "mean = sum / len(periods)\n",
    "print('mean: {0:.4f}'.format(mean))\n",
    "\n",
    "squareDiff = 0\n",
    "for p in periods: squareDiff += (p - mean)**2\n",
    "\n",
    "s = np.sqrt(squareDiff/(len(periods) - 1))\n",
    "print('standard deviation: {0:.4f}'.format(s))\n"
   ]
  },
  {
   "cell_type": "markdown",
   "metadata": {},
   "source": [
    "We don’t really have enough data to establish that the measurements are\n",
    "gaussian, but gaussian is the simplest choice, so we will use it. Norm\n",
    "is scipy’s gaussian distribution, we will use cdf, the cumulative\n",
    "distribution function:\n",
    "\n",
    "$$\\int_{-\\infty}^x g(x')dx'$$\n",
    "\n",
    "Remember to multiply the area of the tail by 2."
   ]
  },
  {
   "cell_type": "code",
   "execution_count": 16,
   "metadata": {
    "collapsed": false
   },
   "outputs": [
    {
     "name": "stdout",
     "output_type": "stream",
     "text": [
      "z: 1.2472\n",
      "probability: 0.7877\n"
     ]
    }
   ],
   "source": [
    "print('z: {0:.4f}'.format(0.02 / s))\n",
    "p = 1 - 2*(1 - st.norm.cdf(0.02 / s))\n",
    "print('probability: {0:.4f}'.format(p))"
   ]
  },
  {
   "cell_type": "code",
   "execution_count": null,
   "metadata": {
    "collapsed": true
   },
   "outputs": [],
   "source": []
  }
 ],
 "metadata": {
  "kernelspec": {
   "display_name": "Python 3",
   "language": "python",
   "name": "python3"
  },
  "language_info": {
   "codemirror_mode": {
    "name": "ipython",
    "version": 3
   },
   "file_extension": ".py",
   "mimetype": "text/x-python",
   "name": "python",
   "nbconvert_exporter": "python",
   "pygments_lexer": "ipython3",
   "version": "3.5.1"
  }
 },
 "nbformat": 4,
 "nbformat_minor": 0
}
