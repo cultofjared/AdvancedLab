{
 "cells": [
  {
   "cell_type": "code",
   "execution_count": 1,
   "metadata": {
    "collapsed": false
   },
   "outputs": [],
   "source": [
    "from sympy.physics.units import *\n",
    "from scipy.constants import Boltzmann, hbar, pi, e, mu_0\n",
    "from sympy.interactive import printing\n",
    "printing.init_printing(use_latex=True)\n",
    "\n",
    "gauss = tesla / (10 * kilo)\n",
    "boltzmann = Boltzmann * joule / kelvin\n",
    "hbar = hbar * joule * second\n",
    "mu_0 = mu_0 * newtons / ampere**2"
   ]
  },
  {
   "cell_type": "markdown",
   "metadata": {},
   "source": [
    "For a proton magnetic resonance experiment with signal at 15 MHz, and T=300K, what is the ratio of the population of the excited spin state to the ground spin state?\n",
    "\n",
    "---"
   ]
  },
  {
   "cell_type": "code",
   "execution_count": 2,
   "metadata": {
    "collapsed": false
   },
   "outputs": [
    {
     "data": {
      "image/png": "[encoded data removed]",
      "text/latex": [
       "$$1.00000263056066$$"
      ],
      "text/plain": [
       "1.00000263056066"
      ]
     },
     "execution_count": 2,
     "metadata": {},
     "output_type": "execute_result"
    }
   ],
   "source": [
    "omega = 15 * mega * hz / (2 * pi)\n",
    "temp = 300 * kelvin\n",
    "gamma = 2.6750 * 10**8 * rad / (second * tesla)\n",
    "dipole_moment = gamma * hbar / 2\n",
    "earth_field = 0.5 * gauss\n",
    "\n",
    "dE = hbar * omega\n",
    "dT = temp * boltzmann\n",
    "ratio = e **(- dE / dT)\n",
    "ratio"
   ]
  },
  {
   "cell_type": "markdown",
   "metadata": {},
   "source": [
    "What is the magnetic moment of $1mm^3$ of water under the conditions of the last question? What is the magnetic field produced by this magnetization at a distance of 1 mm, approximately? This is the magnetic field you will be measuring. How big is it compared to the earth's magnetic field?\n",
    "\n",
    "---"
   ]
  },
  {
   "cell_type": "code",
   "execution_count": 3,
   "metadata": {
    "collapsed": false
   },
   "outputs": [
    {
     "data": {
      "image/png": "[encoded data removed]",
      "text/latex": [
       "$$6.691268655555555e+19$$"
      ],
      "text/plain": [
       "6.691268655555555e+19"
      ]
     },
     "execution_count": 3,
     "metadata": {},
     "output_type": "execute_result"
    }
   ],
   "source": [
    "density = 1 * gram / cm**3\n",
    "N = density * mm**3 * (mol / (18 * gram)) * avogadro * 2\n",
    "float(N)"
   ]
  },
  {
   "cell_type": "code",
   "execution_count": 4,
   "metadata": {
    "collapsed": false
   },
   "outputs": [
    {
     "data": {
      "image/png": "[encoded data removed]",
      "text/latex": [
       "$$2.48271078766412 \\cdot 10^{-6}$$"
      ],
      "text/plain": [
       "2.48271078766412e-6"
      ]
     },
     "execution_count": 4,
     "metadata": {},
     "output_type": "execute_result"
    }
   ],
   "source": [
    "diff = (ratio - 1)/(ratio + 1)\n",
    "saturation_moment = N * dipole_moment\n",
    "moment = saturation_moment * diff\n",
    "field = mu_0 * moment / (4 * pi * mm**3)\n",
    "field / earth_field"
   ]
  },
  {
   "cell_type": "markdown",
   "metadata": {},
   "source": [
    "Why are the magnetic fields of the permanent magnet and the magnetic field induced by the Helmholtz transmitter coils at right angles? Suggest a reason the solenoidal nmr receiver coil is oriented at right angles to both the static field and the transmitter coil.\n",
    "\n",
    "---"
   ]
  },
  {
   "cell_type": "markdown",
   "metadata": {},
   "source": [
    "What mechanisms are responsible for the decay of the oscillating magnetization induced after the application of a $90^{\\circ}$ tipping pulse? Which of these mechanisms can be reversed? How?\n",
    "\n",
    "---"
   ]
  }
 ],
 "metadata": {
  "kernelspec": {
   "display_name": "Python 3",
   "language": "python",
   "name": "python3"
  },
  "language_info": {
   "codemirror_mode": {
    "name": "ipython",
    "version": 3
   },
   "file_extension": ".py",
   "mimetype": "text/x-python",
   "name": "python",
   "nbconvert_exporter": "python",
   "pygments_lexer": "ipython3",
   "version": "3.5.1"
  }
 },
 "nbformat": 4,
 "nbformat_minor": 0
}
