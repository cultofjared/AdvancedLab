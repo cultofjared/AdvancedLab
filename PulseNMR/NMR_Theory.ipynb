{
 "cells": [
  {
   "cell_type": "markdown",
   "metadata": {},
   "source": [
    "How can we use a magnetic field to investigate a material?"
   ]
  },
  {
   "cell_type": "markdown",
   "metadata": {},
   "source": [
    "The simpelest way is to look at the *response*. That is when I put a field through the material, what field does it generate? Paramagnets create a field along the external field. Diamagnets oppose the external field. Ferromagnets snap to attention if they are near their critical point. You might do a similar experiment in the ferroelectricity lab.\n",
    "\n",
    "Unfortunately for most materials this is not going to be interesting. The response of any given material is probably gonig to be near zero, unless it has an inherant magnetic moment or highly mobile electrons."
   ]
  },
  {
   "cell_type": "markdown",
   "metadata": {},
   "source": [
    "Another way to check out a material is to probe it on the frequency spectrum. Remember that an energy transition is driven by a specific frequency $\\hbar \\omega = \\Delta E$. By sweeping a magnetic field over a range of frequencies, and recording where the material responds, you can map out the set of allowed energy levels.\n",
    "\n",
    "Unfortuately this is a difficult experiment. To probe a milli ev energy gap, we will need terrahertz frequency. Also remember that frequency is a vector, so to explore anisotropic (crystaline) samples we would like the ability to rotate the sample. Even if you set up all this, the data you collect can be arbitrarily complicated. Here in 122, we restrict ourselves to considering two level systems, but in the wild we have to think in terms of energy level *density* rather than count."
   ]
  },
  {
   "cell_type": "markdown",
   "metadata": {},
   "source": [
    "The response and frequency measurements are both *steady state* measurements. We can push a little farther and look at the dynamics of the system. Don't look at which excited states exist, but rather at how long it takes to arrive at them.\n",
    " \n",
    "What does this this tell you about the material? \n",
    "Distance between proton centers. If very close then fast relaxation time. If very far then slow relaxation time."
   ]
  },
  {
   "cell_type": "markdown",
   "metadata": {},
   "source": [
    "Rotating frame of reference -> effective magnetic field"
   ]
  },
  {
   "cell_type": "markdown",
   "metadata": {},
   "source": [
    "Classical magnetic moment:  \n",
    "$$\n",
    "\\vec{\\mu} = I\\,\\vec{A} = \\frac{q}{T} \\,\\pi r^2 (\\hat{r} \\times \\hat{v}) = \\frac{q v}{2 \\pi r} \\,\\pi r^2(\\hat{r} \\times \\hat{v}) = \\frac{q}{2m} \\left(\\vec{r} \\times \\vec{p}\\right) = \\frac{q\\vec{L}}{2m}$$\n",
    "\n",
    "\n",
    "For spin systems there is an additional quantum mechanical factor $g$, making the full formula $$\\hat{\\mu} = \\frac{g q \\hat{S}}{2m}$$\n",
    "and\n",
    "$$E = -\\vec{\\mu} \\cdot \\vec{B}$$"
   ]
  },
  {
   "cell_type": "markdown",
   "metadata": {},
   "source": [
    "Experimental values for electron and proton are:\n",
    "<div style=\"margin-top:4px;text-align:center\">\n",
    "  <span style=\"margin-left:10px;margin-right:10px;\"> $g_e = −2.00231930436182$ </span>\n",
    "  <span style=\"margin-left:10px;margin-right:10px;\"> $g_p = 5.585694702$ </span>\n",
    "</div>"
   ]
  },
  {
   "cell_type": "markdown",
   "metadata": {},
   "source": [
    "You can derive $g_e = -2$ from the Dirac equation. You can derive $g_e = -2.0023318361$ by perturbing that result. I have no idea if $g_p$ is derivable, but the theoretical interaction of three quarks has got to be gnarly."
   ]
  },
  {
   "cell_type": "markdown",
   "metadata": {},
   "source": [
    "$\\vec{S}$ eigenvalues are $\\pm \\frac{\\hbar}{2}$\n",
    "\n",
    "$$E_{\\pm} = \\pm \\frac{g e \\hbar B_z}{4 m_p}$$\n",
    "\n",
    "$$\\Delta E = \\frac{g e \\hbar B_z}{2 m_p}$$\n",
    "\n",
    "$$\\omega = \\frac{g e B_z}{2 m_p}$$"
   ]
  },
  {
   "cell_type": "markdown",
   "metadata": {},
   "source": [
    "Fixed Magnet: 3.5 kG \n",
    " -> $\\Delta E = 6.165×10^{-8} eV$\n",
    " \n",
    "Note that the lack of an $\\hbar$ in this formula means this is almost a classical problem. Almost because the finite frequency comes from the quantum energy gap, and we still have the mysterious $g$ hanging around."
   ]
  },
  {
   "cell_type": "code",
   "execution_count": 2,
   "metadata": {
    "collapsed": false
   },
   "outputs": [
    {
     "name": "stdout",
     "output_type": "stream",
     "text": [
      "omega: 14.902118 Mhz\n",
      "proton magnetic moment: 8.804315 peV/gauss\n"
     ]
    }
   ],
   "source": [
    "from scipy.constants import physical_constants\n",
    "from scipy.constants import pi\n",
    "import sympy.physics.units as u\n",
    "u.gauss = u.T * 10**-4\n",
    "\n",
    "m_p = physical_constants['proton mass'][0] * u.kg\n",
    "g_p = physical_constants['proton g factor'][0]\n",
    "hbar = physical_constants['Planck constant over 2 pi in eV s'][0] * u.eV * u.s\n",
    "e = physical_constants['elementary charge'][0] * u.C\n",
    "\n",
    "u_p = g_p * e * hbar / (4 * m_p)\n",
    "B_z = 3.5 * u.kilo * u.gauss\n",
    "omega = (g_p * e * B_z)/(2 * m_p)\n",
    "print('omega: {omega:.6f} Mhz'.format(omega=(omega / (2 * pi * u.mega * u.hz))))\n",
    "print('proton magnetic moment: {mu:.6f} peV/gauss'.format(mu=(u_p * u.gauss / (u.pico * u.eV))))"
   ]
  },
  {
   "cell_type": "markdown",
   "metadata": {
    "collapsed": true
   },
   "source": [
    "The actual occupation of these discrete states is determined by the temperature"
   ]
  }
 ],
 "metadata": {
  "kernelspec": {
   "display_name": "Python 3",
   "language": "python",
   "name": "python3"
  },
  "language_info": {
   "codemirror_mode": {
    "name": "ipython",
    "version": 3
   },
   "file_extension": ".py",
   "mimetype": "text/x-python",
   "name": "python",
   "nbconvert_exporter": "python",
   "pygments_lexer": "ipython3",
   "version": "3.5.0"
  }
 },
 "nbformat": 4,
 "nbformat_minor": 0
}
