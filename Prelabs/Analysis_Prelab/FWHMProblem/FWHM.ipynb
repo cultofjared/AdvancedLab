{
 "cells": [
  {
   "cell_type": "markdown",
   "metadata": {},
   "source": [
    "Show by numerical calculation that, for the Gaussian probability\n",
    "distribution, the full width at half maximum $\\Gamma$ is related to the\n",
    "standard deviation by $\\Gamma = 2.354\\sigma$ [Equation (2.28) from\n",
    "Bevington].\n"
   ]
  },
  {
   "cell_type": "markdown",
   "metadata": {},
   "source": [
    "Gaussian probability\n",
    "$$p(x) = \\frac{1}{\\sqrt{2\\pi \\sigma^2}} e^{-x^2/2\\sigma^2}$$\n",
    "\n",
    "the ratio to the maximum $$\\begin{aligned}\n",
    "p(x)/p(0) = e^{-x^2/2\\sigma^2} &= 0.5 \\\\\n",
    "            \\frac{-x^2}{2\\sigma^2}   &= \\log(0.5) \\\\\n",
    "            x &= \\sigma \\sqrt{2\\log{2}} \\\\\n",
    "            \\text{FWHM} &= 2\\sigma \\sqrt{2\\log{2}} = 2.3548\\sigma\\end{aligned}$$\n"
   ]
  }
 ],
 "metadata": {},
 "nbformat": 4,
 "nbformat_minor": 0
}