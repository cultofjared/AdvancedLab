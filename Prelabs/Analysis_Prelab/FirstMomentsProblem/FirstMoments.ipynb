{
 "cells": [
  {
   "cell_type": "markdown",
   "metadata": {},
   "source": [
    "A student measures the period of a pendulum and obtains the following\n",
    "values.\n",
    "\n",
    "| Trial  |   1  |   2  |   3  |   4  |   5  |   6  |   7  |   8  |\n",
    "|:-------|:----:|:----:|:----:|:----:|:----:|:----:|:----:|:----:|\n",
    "| Period | 1.35 | 1.34 | 1.32 | 1.36 | 1.33 | 1.34 | 1.37 | 1.35 |\n",
    "\n",
    "1.  Find the mean and standard deviation of the measurements and the\n",
    "    standard deviation of the mean.\n",
    "\n",
    "2.  Estimate the probability that another single measurement will fall\n",
    "    within 0.02 of the mean.\n",
    "\n",
    "\n"
   ]
  },
  {
   "cell_type": "markdown",
   "metadata": {},
   "source": [
    "\n"
   ]
  },
  {
   "cell_type": "code",
   "execution_count": 1,
   "metadata": {
    "collapsed": false
   },
   "outputs": [
    {
     "name": "stdout",
     "output_type": "stream",
     "text": [
      "mean: 1.3450\n",
      "standard deviation: 0.0160\n"
     ]
    }
   ],
   "source": [
    "import numpy as np\n",
    "import scipy.stats as st\n",
    "periods = np.array([1.35, 1.34, 1.32, 1.36, 1.33, 1.34, 1.37, 1.35])\n",
    "\n",
    "sum = 0\n",
    "for p in periods: sum += p\n",
    "\n",
    "mean = sum / len(periods)\n",
    "print \"mean: {0:.4f}\".format(mean)\n",
    "\n",
    "squareDiff = 0\n",
    "for p in periods: squareDiff += (p - mean)**2\n",
    "\n",
    "s = np.sqrt(squareDiff/(len(periods) - 1))\n",
    "print \"standard deviation: {0:.4f}\".format(s)"
   ]
  },
  {
   "cell_type": "markdown",
   "metadata": {},
   "source": [
    "We don’t really have enough data to establish that the measurements are\n",
    "gaussian, but gaussian is the simplest choice, so we will use it. Norm\n",
    "is scipy’s gaussian distribution, we will use cdf, the cumulative\n",
    "distribution function:\n",
    "\n",
    "$$\\int_{-\\infty}^x g(x')dx'$$\n",
    "\n",
    "Remember to multiply the area of the tail by 2.\n"
   ]
  },
  {
   "cell_type": "code",
   "execution_count": 2,
   "metadata": {
    "collapsed": false
   },
   "outputs": [
    {
     "name": "stdout",
     "output_type": "stream",
     "text": [
      "probability: 0.7877\n"
     ]
    }
   ],
   "source": [
    "deviation = 0.02 / s\n",
    "p = 1 - 2*(1 - st.norm.cdf(deviation))\n",
    "print \"probability: {0:.4f}\".format(p)"
   ]
  }
 ],
 "metadata": {
  "kernelspec": {
   "display_name": "Python 2",
   "language": "python",
   "name": "python2"
  },
  "language_info": {
   "codemirror_mode": {
    "name": "ipython",
    "version": 2
   },
   "file_extension": ".py",
   "mimetype": "text/x-python",
   "name": "python",
   "nbconvert_exporter": "python",
   "pygments_lexer": "ipython2",
   "version": "2.7.6"
  }
 },
 "nbformat": 4,
 "nbformat_minor": 0
}
