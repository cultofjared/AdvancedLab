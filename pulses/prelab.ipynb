{
 "cells": [
  {
   "cell_type": "markdown",
   "metadata": {},
   "source": [
    "Read Melissinos (2003) chapters 3.2 [Basic electronic equipment], 3.3 [Oscilloscopes and digitizers], and 3.4 [Simple measurements]. Pulses are ubiquitou in timing experiments, in all digital systems (computers, cell phones), and we must use transmission lines (ribbon cable, coaxial cable) to move these pulses from one place to the other. Read the files *Coax impedance* and *Characteristic impedance* on the 122 Electronics Lab web page."
   ]
  },
  {
   "cell_type": "markdown",
   "metadata": {},
   "source": [
    "1. A certain transmission line attenuates pulses at a rate of $2\\%$ per meter. Derive an exact formula for the pulse amplitude as a function of distance along the cable. Make a plot of the amplitude of a pulse as a function of position along the transmission line from $0$ to $200$ meters. (The formula is the solution of an elementary differential equation.)"
   ]
  },
  {
   "cell_type": "markdown",
   "metadata": {},
   "source": [
    "<ol start=\"2\"><li>\n",
    "Draw the predicted shape and amplitude of an ideal rectangular pulse of amplitude $1$ volt and duration $100$ nano seconds after it has tranversed a coaxial cable $100$ m long and returned following reflection from an open end.\n",
    "</li></ol>"
   ]
  }
 ],
 "metadata": {
  "kernelspec": {
   "display_name": "Python 3",
   "language": "python",
   "name": "python3"
  },
  "language_info": {
   "codemirror_mode": {
    "name": "ipython",
    "version": 3
   },
   "file_extension": ".py",
   "mimetype": "text/x-python",
   "name": "python",
   "nbconvert_exporter": "python",
   "pygments_lexer": "ipython3",
   "version": "3.5.1"
  }
 },
 "nbformat": 4,
 "nbformat_minor": 0
}
