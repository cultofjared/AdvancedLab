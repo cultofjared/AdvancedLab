{
 "cells": [
  {
   "cell_type": "code",
   "execution_count": 1,
   "metadata": {
    "collapsed": false
   },
   "outputs": [],
   "source": [
    "import numpy as np\n",
    "import scipy.constants as constants\n",
    "from pint import UnitRegistry\n",
    "ureg = UnitRegistry()"
   ]
  },
  {
   "cell_type": "markdown",
   "metadata": {},
   "source": [
    "# Muon Prelab and Notes"
   ]
  },
  {
   "cell_type": "markdown",
   "metadata": {},
   "source": [
    "1. Explain why if muons have a mean lifetime of about 2.2 microseconds that muons generated at the top of the atmosphere are detected in your scintillator."
   ]
  },
  {
   "cell_type": "markdown",
   "metadata": {},
   "source": [
    "While Muons originate from a distribution of heights, I'll assume they come from 100km. Use 2.05 Gev as the energy, and start by assuming the speed of light."
   ]
  },
  {
   "cell_type": "markdown",
   "metadata": {},
   "source": [
    "Because the number of decays depends only on the number of incident particles, the equation for number of surviving particles versus distance is simple.\n",
    "\n",
    "$$-dN = \\tau N dt \\rightarrow N(t) = N_0 e^{-t/<t>} \\rightarrow N(z) = N_0 e^{-z/c<t>}$$"
   ]
  },
  {
   "cell_type": "code",
   "execution_count": 2,
   "metadata": {
    "collapsed": false
   },
   "outputs": [],
   "source": [
    "sea_level = 10**2 * ureg.kilometer\n",
    "decay_time = 2.2 * ureg.microsecond\n",
    "c = constants.c * ureg.meter / ureg.second\n",
    "mass = constants.physical_constants[\"muon mass\"][0] * ureg.kg\n",
    "energy = 2.05 * ureg.GeV"
   ]
  },
  {
   "cell_type": "code",
   "execution_count": 3,
   "metadata": {
    "collapsed": false
   },
   "outputs": [
    {
     "name": "stdout",
     "output_type": "stream",
     "text": [
      "exponential falloff 1.516 1 / kilometer\n",
      "fraction reaching sealevel 1.42e-66\n"
     ]
    }
   ],
   "source": [
    "falloff = 1/(c * decay_time).to(ureg.kilometer)\n",
    "print('exponential falloff %.3f %s' % (falloff.magnitude, falloff.units))\n",
    "print('fraction reaching sealevel %.2e' % np.exp(-sea_level * falloff))"
   ]
  },
  {
   "cell_type": "markdown",
   "metadata": {},
   "source": [
    "This is essentially zero. But we have forgotten relatavistic proper time. I'll assume the muon has $50$ Mev of energy\n",
    "\n",
    "$$\n",
    "\\begin{align}\n",
    "E &= \\gamma m c^2 \\\\\n",
    "T &= \\gamma m c^2 - m c^2 \\\\\n",
    "\\gamma &= T/mc^2 + 1\n",
    "\\end{align}\n",
    "$$\n",
    "\n",
    "$$\n",
    "\\begin{align}\n",
    "\\gamma^2 &= \\frac{1}{1 - \\beta^2} \\\\\n",
    "\\beta^2 &= 1 - 1/\\gamma^2 \\\\\n",
    "\\end{align}\n",
    "$$"
   ]
  },
  {
   "cell_type": "code",
   "execution_count": 4,
   "metadata": {
    "collapsed": false
   },
   "outputs": [
    {
     "name": "stdout",
     "output_type": "stream",
     "text": [
      "gamma 20.40\n",
      "velocity 0.999 c\n"
     ]
    }
   ],
   "source": [
    "gamma = energy/(mass * c**2) + 1\n",
    "v = c * np.sqrt(1 - 1/gamma**2)\n",
    "print(\"gamma %.2f\" % gamma.magnitude)\n",
    "print(\"velocity %.3f c\" % (v/c).magnitude)"
   ]
  },
  {
   "cell_type": "markdown",
   "metadata": {},
   "source": [
    "$N_0 e^{-z/v<t>} \\rightarrow N_0 e^{-z/v<\\tau>} = N_0 e^{-z/v<t>\\gamma}$"
   ]
  },
  {
   "cell_type": "code",
   "execution_count": 5,
   "metadata": {
    "collapsed": false
   },
   "outputs": [
    {
     "name": "stdout",
     "output_type": "stream",
     "text": [
      "fraction reaching sealevel 5.87e-04\n"
     ]
    }
   ],
   "source": [
    "print('fraction reaching sealevel %.2e' % np.exp(-sea_level / (v * decay_time * gamma)))"
   ]
  },
  {
   "cell_type": "markdown",
   "metadata": {},
   "source": [
    "So about 1 in every 2000 detectable, normally incident muons makes it to sea level.\n",
    "\n",
    "This is an overestimate, $\\tau$ should vary with depth."
   ]
  },
  {
   "cell_type": "markdown",
   "metadata": {},
   "source": [
    "2. Estimate the number of muons <50MeV hitting your scintillator detector each second."
   ]
  },
  {
   "cell_type": "code",
   "execution_count": null,
   "metadata": {
    "collapsed": true
   },
   "outputs": [],
   "source": []
  }
 ],
 "metadata": {
  "kernelspec": {
   "display_name": "Python 2",
   "language": "python",
   "name": "python2"
  },
  "language_info": {
   "codemirror_mode": {
    "name": "ipython",
    "version": 2
   },
   "file_extension": ".py",
   "mimetype": "text/x-python",
   "name": "python",
   "nbconvert_exporter": "python",
   "pygments_lexer": "ipython2",
   "version": "2.7.6"
  }
 },
 "nbformat": 4,
 "nbformat_minor": 0
}
